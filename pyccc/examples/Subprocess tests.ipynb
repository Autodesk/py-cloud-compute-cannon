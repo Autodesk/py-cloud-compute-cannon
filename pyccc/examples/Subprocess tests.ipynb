{
 "cells": [
  {
   "cell_type": "code",
   "execution_count": 1,
   "metadata": {
    "collapsed": false
   },
   "outputs": [],
   "source": [
    "import logging;logging.getLogger().setLevel(logging.INFO)\n",
    "import pickle,gc\n",
    "import bioplatform as bp\n",
    "from bioplatform import providers,files\n",
    "from bioplatform.job import Job\n",
    "import bioplatform.python as py\n",
    "\n",
    "\n",
    "def launder(obj):\n",
    "    \"\"\"Serialize and deserialize an object\"\"\"\n",
    "    return pickle.loads( pickle.dumps(obj))\n",
    "#reload(du);reload(files);reload(api)"
   ]
  },
  {
   "cell_type": "markdown",
   "metadata": {},
   "source": [
    "<h3>Basic api functions</h3>"
   ]
  },
  {
   "cell_type": "code",
   "execution_count": 2,
   "metadata": {
    "collapsed": false,
    "scrolled": true
   },
   "outputs": [],
   "source": [
    "\"Test subprocess file staging\"\n",
    "provider = providers.Subprocess()\n",
    "input_files = {'myfile.txt': files.StringContainer('abc123','tempname') }\n",
    "job = Job(provider,'platform/base_image','cp -v myfile.txt newfile.txt && echo test!',\n",
    "          inputs=input_files)\n",
    "job.wait()\n",
    "assert 'newfile.txt' in job.get_output()\n",
    "assert job.stdout.strip().split('\\n')[-1] == 'test!'\n",
    "assert job.get_output('newfile.txt').contents.strip() == 'abc123'"
   ]
  },
  {
   "cell_type": "code",
   "execution_count": 3,
   "metadata": {
    "collapsed": false
   },
   "outputs": [
    {
     "name": "stderr",
     "output_type": "stream",
     "text": [
      "INFO:requests.packages.urllib3.connectionpool:Starting new HTTPS connection (1): 192.168.99.100\n",
      "INFO:root:building image:{\"stream\":\"Step 1 : FROM phusion/baseimage\\n\"}\n",
      "INFO:root:building image:{\"stream\":\" ---\\u003e ea7f812691cd\\n\"}\n",
      "INFO:root:building image:{\"stream\":\"Step 2 : COPY inputs /mytmp\\n\"}\n",
      "INFO:root:building image:{\"stream\":\" ---\\u003e d01985ba60e8\\n\"}\n",
      "INFO:root:building image:{\"stream\":\"Removing intermediate container c6ffb2c310de\\n\"}\n",
      "INFO:root:building image:{\"stream\":\"Successfully built d01985ba60e8\\n\"}\n"
     ]
    }
   ],
   "source": [
    "\"\"\"Test docker image building (requires a docker-machine named \"default\")\"\"\"\n",
    "import docker\n",
    "from bioplatform import docker_utils as du\n",
    "\n",
    "#Create a provisioned image\n",
    "wdir = '/mytmp'\n",
    "inputs = {'a.pdf':files.LocalFile('test.pdf')}\n",
    "client = du.docker_machine_client('default')\n",
    "test_build_context = du.create_build_context('phusion/baseimage',inputs,wdir)\n",
    "assert 'Dockerfile' in test_build_context\n",
    "assert 'inputs/a.pdf' in test_build_context\n",
    "\n",
    "#Check that the container was provisioned and runs succesfully\n",
    "imageid = du.create_provisioned_image(client,'phusion/baseimage',wdir,inputs)\n",
    "container = client.create_container(imageid,command='ls /mytmp')\n",
    "client.start(container)\n",
    "client.wait(container)\n",
    "assert client.logs(container,stdout=True,stderr=False).strip() == 'a.pdf'\n",
    "assert client.logs(container,stdout=False,stderr=True).strip() == ''"
   ]
  },
  {
   "cell_type": "code",
   "execution_count": 4,
   "metadata": {
    "collapsed": false
   },
   "outputs": [
    {
     "name": "stderr",
     "output_type": "stream",
     "text": [
      "INFO:requests.packages.urllib3.connectionpool:Starting new HTTPS connection (1): 192.168.99.100\n",
      "INFO:root:building image:{\"stream\":\"Step 1 : FROM phusion/baseimage\\n\"}\n",
      "INFO:root:building image:{\"stream\":\" ---\\u003e ea7f812691cd\\n\"}\n",
      "INFO:root:building image:{\"stream\":\"Step 2 : COPY inputs /default_wdir\\n\"}\n",
      "INFO:root:building image:{\"stream\":\" ---\\u003e Using cache\\n\"}\n",
      "INFO:root:building image:{\"stream\":\" ---\\u003e a631ec7530e4\\n\"}\n",
      "INFO:root:building image:{\"stream\":\"Successfully built a631ec7530e4\\n\"}\n",
      "INFO:requests.packages.urllib3.connectionpool:Starting new HTTPS connection (1): 192.168.99.100\n"
     ]
    }
   ],
   "source": [
    "\"\"\"Test docker jobs\"\"\"\n",
    "client = du.docker_machine_client('default')\n",
    "provider = providers.Docker(client)\n",
    "input_files = {'myfile.txt': files.StringContainer('abc123','tempname') }\n",
    "job = Job(provider,'phusion/baseimage',\n",
    "                    'cp -v myfile.txt newfile.txt && echo test!', inputs=input_files)\n",
    "job.wait()\n",
    "assert 'newfile.txt' in job.get_output()\n",
    "assert job.stdout.strip().split('\\n')[-1] == 'test!'\n",
    "assert job.get_output('newfile.txt').contents.strip() == 'abc123'"
   ]
  },
  {
   "cell_type": "markdown",
   "metadata": {},
   "source": [
    "<h3>Launchers</h3>"
   ]
  },
  {
   "cell_type": "code",
   "execution_count": 5,
   "metadata": {
    "collapsed": false
   },
   "outputs": [],
   "source": [
    "\"Subprocess launcher\"\n",
    "proc = providers.Subprocess()\n",
    "job = proc.launch(None,'echo my path is %s' % bp.bioplatform_path)\n",
    "job.wait()\n",
    "assert job.stdout.strip() == 'my path is %s' % bp.bioplatform_path\n",
    "assert job.stderr == ''"
   ]
  },
  {
   "cell_type": "code",
   "execution_count": 6,
   "metadata": {
    "collapsed": false
   },
   "outputs": [
    {
     "name": "stderr",
     "output_type": "stream",
     "text": [
      "INFO:requests.packages.urllib3.connectionpool:Starting new HTTPS connection (1): 192.168.99.100\n",
      "INFO:root:building image:{\"stream\":\"Step 1 : FROM phusion/baseimage\\n\"}\n",
      "INFO:root:building image:{\"stream\":\" ---\\u003e ea7f812691cd\\n\"}\n",
      "INFO:root:building image:{\"stream\":\"Step 2 : RUN mkdir -p /default_wdir\\n\"}\n",
      "INFO:root:building image:{\"stream\":\" ---\\u003e Using cache\\n\"}\n",
      "INFO:root:building image:{\"stream\":\" ---\\u003e 5c4855d21330\\n\"}\n",
      "INFO:root:building image:{\"stream\":\"Successfully built 5c4855d21330\\n\"}\n"
     ]
    }
   ],
   "source": [
    "\"Docker launcher\"\n",
    "proc = providers.Docker( du.docker_machine_client() )\n",
    "job = proc.launch('phusion/baseimage','echo my path is %s' % bp.bioplatform_path)\n",
    "job.wait()\n",
    "assert job.stdout.strip() == 'my path is %s' % bp.bioplatform_path\n",
    "assert job.stderr == ''"
   ]
  },
  {
   "cell_type": "code",
   "execution_count": 12,
   "metadata": {
    "collapsed": false
   },
   "outputs": [
    {
     "name": "stderr",
     "output_type": "stream",
     "text": [
      "INFO:requests.packages.urllib3.connectionpool:Starting new HTTPS connection (1): 192.168.99.100\n",
      "INFO:root:building image:{\"stream\":\"Step 1 : FROM minimal_python\\n\"}\n",
      "INFO:root:building image:{\"stream\":\" ---\\u003e 085e74ad7559\\n\"}\n",
      "INFO:root:building image:{\"stream\":\"Step 2 : COPY inputs /default_wdir\\n\"}\n",
      "INFO:root:building image:{\"stream\":\" ---\\u003e ff5272862036\\n\"}\n",
      "INFO:root:building image:{\"stream\":\"Removing intermediate container 411150f439fd\\n\"}\n",
      "INFO:root:building image:{\"stream\":\"Successfully built ff5272862036\\n\"}\n",
      "INFO:requests.packages.urllib3.connectionpool:Starting new HTTPS connection (1): 192.168.99.100\n"
     ]
    }
   ],
   "source": [
    "\"Python launcher\"\n",
    "docker_provider = providers.Docker( du.docker_machine_client() )\n",
    "pylauncher = py.PythonLauncher(docker_provider,'minimal_python')\n",
    "y=10\n",
    "def increment_by(x): return x+y\n",
    "job = pylauncher(increment_by,3)\n",
    "job.wait()\n",
    "assert job.result==13"
   ]
  },
  {
   "cell_type": "markdown",
   "metadata": {},
   "source": [
    "<h4>Python tests</h4>"
   ]
  },
  {
   "cell_type": "code",
   "execution_count": null,
   "metadata": {
    "collapsed": false
   },
   "outputs": [],
   "source": [
    "\"\"\"Test python function packaging\"\"\"\n",
    "#TODO: see if we can blow away the namespace before running the laundered package\n",
    "import pickle as cp\n",
    "#reload(py)\n",
    "\n",
    "def increment(x): return x+1\n",
    "pkg = py.PackagedFunction(increment,32)\n",
    "laundered_pkg = launder(pkg)\n",
    "assert laundered_pkg.run(increment) == 33"
   ]
  },
  {
   "cell_type": "code",
   "execution_count": null,
   "metadata": {
    "collapsed": false
   },
   "outputs": [],
   "source": [
    "\"\"\"Test instance method packaging\"\"\"\n",
    "class MyClass(object):\n",
    "    def __init__(self,x):\n",
    "        self.x = x\n",
    "    def inc_x(self):\n",
    "        self.x += 1\n",
    "        return \"Changed x: %d -> %d\"%(self.x-1,self.x)\n",
    "    \n",
    "def make_serialized_object():\n",
    "    myinstance = MyClass(5)\n",
    "    pkg = py.PackagedFunction(myinstance.inc_x)\n",
    "    return pickle.dumps(pkg)\n",
    "\n",
    "pickled_pkg = make_serialized_object()\n",
    "MyClass_hide = MyClass\n",
    "gc.collect()\n",
    "pkg = pickle.loads(pickled_pkg)\n",
    "\n",
    "assert pkg.run() == 'Changed x: 5 -> 6'\n",
    "assert pkg.obj.x == 6"
   ]
  },
  {
   "cell_type": "code",
   "execution_count": null,
   "metadata": {
    "collapsed": false
   },
   "outputs": [],
   "source": [
    "\"\"\"Test function packaging with closure variables\"\"\"\n",
    "y=10\n",
    "def increment_by(x): return x+y\n",
    "pkg = py.PackagedFunction(increment_by,32)\n",
    "laundered_pkg = launder(pkg)\n",
    "assert laundered_pkg.run(increment_by) == 42"
   ]
  },
  {
   "cell_type": "code",
   "execution_count": null,
   "metadata": {
    "collapsed": false
   },
   "outputs": [],
   "source": [
    "\"\"\"Test function packaging with closure module\"\"\"\n",
    "import math\n",
    "def calculate_sin(x): return math.sin(x)\n",
    "pkg = py.PackagedFunction(calculate_sin,math.pi/2.0)\n",
    "laundered_pkg = launder(pkg)\n",
    "assert abs(laundered_pkg.run(calculate_sin) - 1.0) < 1.e-15"
   ]
  },
  {
   "cell_type": "code",
   "execution_count": null,
   "metadata": {
    "collapsed": false
   },
   "outputs": [],
   "source": [
    "\"\"\"Test function packaging with two nested functions\"\"\"\n",
    "def add_one(x): return x+1\n",
    "def add_two(x): return add_one(add_one(x))\n",
    "pkg = py.PackagedFunction(add_two,3)\n",
    "laundered_pkg = launder(pkg)\n",
    "assert laundered_pkg.run(add_two) == 5"
   ]
  },
  {
   "cell_type": "code",
   "execution_count": null,
   "metadata": {
    "collapsed": false
   },
   "outputs": [],
   "source": [
    "\"\"\"Test python job objects\"\"\"\n",
    "client = du.docker_machine_client('default')\n",
    "docker_provider = providers.Docker(client)\n",
    "\n",
    "class FClass(object):\n",
    "    def __init__(self,x):\n",
    "        self.x = x\n",
    "    def inc_x(self):\n",
    "        self.x += 1.0\n",
    "        return \"Changed x: %f -> %f\"%(self.x-1.0,self.x)\n",
    "instance = FClass(10.3)\n",
    "fcall = py.PythonCall(instance.inc_x,[],{})\n",
    "\n",
    "subproc_job = py.PythonJob(providers.Subprocess(),None,fcall)\n",
    "docker_job = py.PythonJob(docker_provider,'phusion/baseimage',fcall)\n"
   ]
  },
  {
   "cell_type": "code",
   "execution_count": null,
   "metadata": {
    "collapsed": false
   },
   "outputs": [],
   "source": [
    "job.exception"
   ]
  },
  {
   "cell_type": "code",
   "execution_count": null,
   "metadata": {
    "collapsed": true
   },
   "outputs": [],
   "source": []
  }
 ],
 "metadata": {
  "kernelspec": {
   "display_name": "Python 2",
   "language": "python",
   "name": "python2"
  },
  "language_info": {
   "codemirror_mode": {
    "name": "ipython",
    "version": 2
   },
   "file_extension": ".py",
   "mimetype": "text/x-python",
   "name": "python",
   "nbconvert_exporter": "python",
   "pygments_lexer": "ipython2",
   "version": "2.7.11"
  }
 },
 "nbformat": 4,
 "nbformat_minor": 0
}
